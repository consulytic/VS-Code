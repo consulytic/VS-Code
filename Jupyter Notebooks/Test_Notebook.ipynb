{
 "cells": [
  {
   "cell_type": "markdown",
   "id": "d4194400-3729-4f95-a3cd-35bf9f0911c9",
   "metadata": {},
   "source": [
    "# A Simple Notebook\n",
    "Playing with basic operators:\n",
    "- using sum()\n",
    "- using a FOR loop\n",
    "- using str()\n",
    "- using print()"
   ]
  },
  {
   "cell_type": "code",
   "execution_count": 2,
   "id": "285125ea",
   "metadata": {},
   "outputs": [
    {
     "name": "stdout",
     "output_type": "stream",
     "text": [
      "1 + 3 + 4 + 9 + \n"
     ]
    }
   ],
   "source": [
    "items = [1, 3, 4, 9]\n",
    "e = sum(items)\n",
    "OutPut = \"\"\n",
    "\n",
    "for NUM in items:\n",
    "    OutPut = OutPut + str(NUM) + \" + \"\n",
    "\n",
    "print(OutPut)"
   ]
  }
 ],
 "metadata": {
  "kernelspec": {
   "display_name": "Python 3",
   "language": "python",
   "name": "python3"
  },
  "language_info": {
   "codemirror_mode": {
    "name": "ipython",
    "version": 3
   },
   "file_extension": ".py",
   "mimetype": "text/x-python",
   "name": "python",
   "nbconvert_exporter": "python",
   "pygments_lexer": "ipython3",
   "version": "3.6.6+"
  }
 },
 "nbformat": 4,
 "nbformat_minor": 5
}
