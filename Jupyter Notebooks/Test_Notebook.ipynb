{
 "cells": [
  {
   "cell_type": "markdown",
   "id": "d4194400-3729-4f95-a3cd-35bf9f0911c9",
   "metadata": {},
   "source": [
    "# A Simple Notebook\n",
    "Nothing to see here\n",
    "\n",
    "- a list\n",
    "- of things\n"
   ]
  },
  {
   "cell_type": "code",
   "execution_count": 2,
   "id": "8556f1be",
   "metadata": {},
   "outputs": [],
   "source": [
    "a = 3\n",
    "a"
   ]
  }
 ],
 "metadata": {
  "kernelspec": {
   "display_name": "Python 3 (ipykernel)",
   "language": "python",
   "name": "python3"
  },
  "language_info": {
   "codemirror_mode": {
    "name": "ipython",
    "version": 3
   },
   "file_extension": ".py",
   "mimetype": "text/x-python",
   "name": "python",
   "nbconvert_exporter": "python",
   "pygments_lexer": "ipython3",
   "version": "3.9.7"
  }
 },
 "nbformat": 4,
 "nbformat_minor": 5
}
