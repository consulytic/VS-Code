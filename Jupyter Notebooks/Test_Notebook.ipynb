{
 "cells": [
  {
   "cell_type": "markdown",
   "id": "d4194400-3729-4f95-a3cd-35bf9f0911c9",
   "metadata": {},
   "source": [
    "# A Simple Notebook\n",
    "Nothing to see here\n",
    "\n",
    "- a list\n",
    "- of things\n"
   ]
  },
  {
   "cell_type": "code",
   "execution_count": 5,
   "id": "8556f1be",
   "metadata": {},
   "outputs": [
    {
     "data": {
      "text/plain": [
       "3"
      ]
     },
     "execution_count": 5,
     "metadata": {},
     "output_type": "execute_result"
    }
   ],
   "source": [
    "a = 3\n",
    "a"
   ]
  },
  {
   "cell_type": "code",
   "execution_count": 6,
   "id": "25fec84c",
   "metadata": {},
   "outputs": [
    {
     "data": {
      "text/plain": [
       "5"
      ]
     },
     "execution_count": 6,
     "metadata": {},
     "output_type": "execute_result"
    }
   ],
   "source": [
    "b = 5\n",
    "b "
   ]
  },
  {
   "cell_type": "code",
   "execution_count": 7,
   "id": "74a6ae91",
   "metadata": {},
   "outputs": [
    {
     "data": {
      "text/plain": [
       "8"
      ]
     },
     "execution_count": 7,
     "metadata": {},
     "output_type": "execute_result"
    }
   ],
   "source": [
    "c = a + b\n",
    "c"
   ]
  },
  {
   "cell_type": "code",
   "execution_count": 15,
   "id": "285125ea",
   "metadata": {},
   "outputs": [
    {
     "name": "stdout",
     "output_type": "stream",
     "text": [
      "The sum of 3 plus 5 Equals 8\n"
     ]
    }
   ],
   "source": [
    "items = [a, b]\n",
    "d = sum(items)\n",
    "OutPut = \"The sum of \" + str(a) + \" plus \" + str(b) + \" Equals \" + str(d)\n",
    "print(OutPut)"
   ]
  }
 ],
 "metadata": {
  "kernelspec": {
   "display_name": "Python 3",
   "language": "python",
   "name": "python3"
  },
  "language_info": {
   "codemirror_mode": {
    "name": "ipython",
    "version": 3
   },
   "file_extension": ".py",
   "mimetype": "text/x-python",
   "name": "python",
   "nbconvert_exporter": "python",
   "pygments_lexer": "ipython3",
   "version": "3.9.7"
  }
 },
 "nbformat": 4,
 "nbformat_minor": 5
}
