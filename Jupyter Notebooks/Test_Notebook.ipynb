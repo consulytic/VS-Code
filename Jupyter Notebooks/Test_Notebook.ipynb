{
 "cells": [
  {
   "cell_type": "markdown",
   "id": "d4194400-3729-4f95-a3cd-35bf9f0911c9",
   "metadata": {},
   "source": [
    "# A Simple Notebook\n",
    "Nothing to see here\n",
    "\n",
    "- a list\n",
    "- of things\n"
   ]
  },
  {
   "cell_type": "code",
   "execution_count": 1,
   "id": "8556f1be",
   "metadata": {},
   "outputs": [
    {
     "data": {
      "text/plain": [
       "3"
      ]
     },
     "execution_count": 1,
     "metadata": {},
     "output_type": "execute_result"
    }
   ],
   "source": [
    "a = 3\n",
    "a"
   ]
  },
  {
   "cell_type": "code",
   "execution_count": 3,
   "id": "25fec84c",
   "metadata": {},
   "outputs": [
    {
     "data": {
      "text/plain": [
       "5"
      ]
     },
     "execution_count": 3,
     "metadata": {},
     "output_type": "execute_result"
    }
   ],
   "source": [
    "b = 5\n",
    "b "
   ]
  },
  {
   "cell_type": "code",
   "execution_count": 7,
   "id": "74a6ae91",
   "metadata": {},
   "outputs": [
    {
     "data": {
      "text/plain": [
       "8"
      ]
     },
     "execution_count": 7,
     "metadata": {},
     "output_type": "execute_result"
    }
   ],
   "source": [
    "c = a + b\n",
    "c"
   ]
  }
 ],
 "metadata": {
  "kernelspec": {
   "display_name": "Python 3",
   "language": "python",
   "name": "python3"
  },
  "language_info": {
   "codemirror_mode": {
    "name": "ipython",
    "version": 3
   },
   "file_extension": ".py",
   "mimetype": "text/x-python",
   "name": "python",
   "nbconvert_exporter": "python",
   "pygments_lexer": "ipython3",
   "version": "3.6.6+"
  }
 },
 "nbformat": 4,
 "nbformat_minor": 5
}
